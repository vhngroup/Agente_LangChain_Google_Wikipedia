{
 "cells": [
  {
   "cell_type": "markdown",
   "id": "01daf74f-8d06-4121-a906-699b8e5b39ff",
   "metadata": {},
   "source": [
    "# Uso de LangChaing junto a  OPENAI, nos conectamos a Google a Wikipedia y usamos agentes."
   ]
  },
  {
   "cell_type": "markdown",
   "id": "8f627f9a-b943-4b41-b64e-d6a1b5a7d446",
   "metadata": {},
   "source": [
    "## Instalamos, Cargamos librerias y nos logueamos con el modelo"
   ]
  },
  {
   "cell_type": "code",
   "execution_count": null,
   "id": "1146b484-6f0d-4745-9e57-0e5d283d5893",
   "metadata": {},
   "outputs": [],
   "source": [
    "!pip install langchain langchain_openai langchain_experimental langchainhub google-api-python-client wikipedia -q #Instala en modo silencioso"
   ]
  },
  {
   "cell_type": "code",
   "execution_count": 131,
   "id": "56b19518-8b03-4b3d-a420-56166211e1bf",
   "metadata": {},
   "outputs": [],
   "source": [
    "from langchain_openai.chat_models import ChatOpenAI\n",
    "from langchain_openai import ChatOpenAI\n",
    "from langchain_core.messages import HumanMessage, AIMessage\n",
    "from langchain_core.runnables import RunnablePassthrough\n",
    "from langchain_core.output_parsers import StrOutputParser\n",
    "from langchain.prompts import ChatPromptTemplate, PromptTemplate, MessagesPlaceholder\n",
    "from langchain_community.chat_message_histories import ChatMessageHistory\n",
    "from langchain_core.chat_history import BaseChatMessageHistory\n",
    "from langchain_community.utilities import GoogleSearchAPIWrapper\n",
    "from chromadb.utils import embedding_functions\n",
    "from langchain_core.tools import Tool\n",
    "from langchain_core.runnables.history import RunnableWithMessageHistory\n",
    "from langchain_community.tools import WikipediaQueryRun\n",
    "from langchain_community.utilities import WikipediaAPIWrapper\n",
    "from langchain import hub\n",
    "from langchain.agents import create_tool_calling_agent\n",
    "from langchain.agents import AgentExecutor\n",
    "from dotenv import load_dotenv, find_dotenv\n",
    "import os"
   ]
  },
  {
   "cell_type": "code",
   "execution_count": 3,
   "id": "90516f32-f425-4816-9c3c-596db05490c9",
   "metadata": {},
   "outputs": [],
   "source": [
    "Api_Key = os.getenv('OPENAI_API_KEY')\n",
    "#os.environ[\"OPENAI_API_KEY\"] = \"TuClave de OPENAI\"\n",
    "os.environ[\"OPENAI_API_KEY\"] = Api_Key\n",
    "llm = ChatOpenAI()"
   ]
  },
  {
   "cell_type": "code",
   "execution_count": 50,
   "id": "3e5cc756-3613-42bf-b083-9625666fccd8",
   "metadata": {},
   "outputs": [
    {
     "data": {
      "text/plain": [
       "AIMessage(content='VHNGROUP es una empresa colombiana que se dedica al desarrollo de proyectos inmobiliarios en el país. La compañía cuenta con una amplia experiencia en el sector y ha llevado a cabo la construcción de diversos proyectos residenciales y comerciales en diferentes ciudades de Colombia. VHNGROUP se destaca por su compromiso con la calidad y la innovación en sus proyectos, así como por su enfoque en brindar soluciones integrales a sus clientes. Además, la empresa se ha posicionado como una de las principales compañías de desarrollo inmobiliario en el país, gracias a su sólida reputación y trayectoria en el mercado.', response_metadata={'token_usage': {'completion_tokens': 144, 'prompt_tokens': 18, 'total_tokens': 162}, 'model_name': 'gpt-3.5-turbo-0125', 'system_fingerprint': None, 'finish_reason': 'stop', 'logprobs': None}, id='run-eef75c89-76f3-4905-953b-1794876318f3-0', usage_metadata={'input_tokens': 18, 'output_tokens': 144, 'total_tokens': 162})"
      ]
     },
     "execution_count": 50,
     "metadata": {},
     "output_type": "execute_result"
    }
   ],
   "source": [
    "#Prueba del LLM sin agente\n",
    "llm.invoke(\"Que sabes de la empresa VHNGROUP\")"
   ]
  },
  {
   "cell_type": "markdown",
   "id": "c435dcba-d72f-4d7c-936d-d108033131f4",
   "metadata": {},
   "source": [
    "## Creamos el modelo:"
   ]
  },
  {
   "cell_type": "markdown",
   "id": "101f70f2-6ab3-494a-a36d-3ce94a4db2b7",
   "metadata": {},
   "source": [
    "#### Primer Prompt, le asignamos personalidad"
   ]
  },
  {
   "cell_type": "code",
   "execution_count": 23,
   "id": "122872b8-5115-4cad-a155-2f3a0c1e09ed",
   "metadata": {},
   "outputs": [],
   "source": [
    "prompt = ChatPromptTemplate.from_messages(\n",
    "    [\n",
    "        (\"system\", \"Eres un asistente virtual de la empresa VHNGROUP\"),\n",
    "        (\"user\", \"{input}\")\n",
    "    ]\n",
    ")\n",
    "chain = prompt | llm"
   ]
  },
  {
   "cell_type": "code",
   "execution_count": 24,
   "id": "952f3013-5262-42dd-b10d-8c16eb8bba04",
   "metadata": {
    "scrolled": true
   },
   "outputs": [
    {
     "data": {
      "text/plain": [
       "AIMessage(content='¡Hola! VHNGROUP es una empresa que ofrece servicios de consultoría en tecnología, desarrollo de software, diseño web, marketing digital y soluciones empresariales. ¿En qué puedo ayudarte hoy?', response_metadata={'token_usage': {'completion_tokens': 44, 'prompt_tokens': 31, 'total_tokens': 75}, 'model_name': 'gpt-3.5-turbo-0125', 'system_fingerprint': None, 'finish_reason': 'stop', 'logprobs': None}, id='run-8e9513c4-ec1c-4ab8-b7d9-f7791d09f27f-0', usage_metadata={'input_tokens': 31, 'output_tokens': 44, 'total_tokens': 75})"
      ]
     },
     "execution_count": 24,
     "metadata": {},
     "output_type": "execute_result"
    }
   ],
   "source": [
    "#Prueba del LLM con personalidad pero sin agente\n",
    "chain.invoke({\"input\": \"Hola, que es VHNGROUP\"})"
   ]
  },
  {
   "cell_type": "markdown",
   "id": "31328e8a-bae8-4c1c-adbf-8fa0c6c77abe",
   "metadata": {},
   "source": [
    "### Le agregamos memoria"
   ]
  },
  {
   "cell_type": "code",
   "execution_count": 41,
   "id": "863dd4ef-b199-4c4e-acd8-832f859c99d8",
   "metadata": {},
   "outputs": [],
   "source": [
    "# Hacemos que el modelo tenga memoria y guarde contexto.\n",
    "model = ChatOpenAI()\n",
    "prompt = ChatPromptTemplate.from_messages(\n",
    "    [\n",
    "        (\"system\", \"Eres un asistente virtual de la empresa VHNGROUP especializado en {ability}, puede responder preguntas sobre {ability}\"),\n",
    "        MessagesPlaceholder(variable_name=\"history\"), #Inserta el historico de la conversación\n",
    "        (\"human\", \"{input}\")\n",
    "    ]\n",
    ")\n",
    "runnable = prompt | model #Ejecutamos el prompt y el modelo"
   ]
  },
  {
   "cell_type": "code",
   "execution_count": 43,
   "id": "036c330c-3dd9-4d21-b8ba-0c9e03955455",
   "metadata": {
    "scrolled": true
   },
   "outputs": [
    {
     "name": "stderr",
     "output_type": "stream",
     "text": [
      "Parent run 999c8764-bcd8-4876-b5c1-9b6600bd04a9 not found for run 74032884-e68a-4d15-aed2-5bc6ed2974d6. Treating as a root run.\n"
     ]
    },
    {
     "data": {
      "text/plain": [
       "AIMessage(content='Para elegir cámaras de videovigilancia para una casa, es importante considerar varios aspectos como el tamaño de la propiedad, las áreas que deseas cubrir, la calidad de imagen que necesitas, si requieres visión nocturna, si quieres cámaras fijas o con movimiento, entre otros. \\n\\nAlgunas recomendaciones generales a tener en cuenta al comprar cámaras de videovigilancia para una casa son:\\n\\n1. Resolución de la cámara: Se recomienda optar por cámaras con al menos 1080p de resolución para obtener imágenes claras y nítidas.\\n\\n2. Visión nocturna: Si necesitas monitorear áreas en la oscuridad, elige cámaras con visión nocturna para una vigilancia continua.\\n\\n3. Conectividad: Puedes optar por cámaras con conexión Wi-Fi para facilitar la instalación y la visualización remota a través de una aplicación móvil.\\n\\n4. Almacenamiento: Considera si deseas almacenar las grabaciones en la nube, en una tarjeta SD o en un disco duro externo.\\n\\n5. Ángulo de visión: Elige cámaras con un amplio ángulo de visión para cubrir la mayor área posible.\\n\\nEs recomendable buscar marcas reconocidas en el mercado y comparar las opciones disponibles según tus necesidades específicas. También es importante instalar las cámaras de manera estratégica para maximizar su eficacia en la vigilancia de tu hogar. ¡Espero que estos consejos te sean de ayuda! ¿Hay algo más en lo que pueda asistirte?', response_metadata={'token_usage': {'completion_tokens': 359, 'prompt_tokens': 55, 'total_tokens': 414}, 'model_name': 'gpt-3.5-turbo-0125', 'system_fingerprint': None, 'finish_reason': 'stop', 'logprobs': None}, id='run-40e5f829-3a58-4170-a158-4628d4a1f77c-0', usage_metadata={'input_tokens': 55, 'output_tokens': 359, 'total_tokens': 414})"
      ]
     },
     "execution_count": 43,
     "metadata": {},
     "output_type": "execute_result"
    }
   ],
   "source": [
    "store = {} #creamos el diccionario para guardar la memoria\n",
    "\n",
    "# Creamos las sesiones\n",
    "def get_session_history(session_id: str)-> BaseChatMessageHistory:\n",
    "    if session_id not in store:\n",
    "        store[session_id] = ChatMessageHistory() #Separamos las session_id para organizar\n",
    "    return store[session_id]\n",
    "    \n",
    "#Agregamos el input y la historia a la conversación\n",
    "with_message_history = RunnableWithMessageHistory(\n",
    "    runnable,\n",
    "    get_session_history,\n",
    "    input_messages_key='input',\n",
    "    history_messages_key='history',\n",
    ")\n",
    "\n",
    "# Preguntamos y catalogamos la conversación\n",
    "with_message_history.invoke(\n",
    "    {\"ability\":\"atencion al cliente\", \"input\":\"Que camaras de video vigilancia debo comprar para una casa?\"},\n",
    "    config={\"configurable\" : {\"session_id\": \"abc123\"}},\n",
    ")1"
   ]
  },
  {
   "cell_type": "markdown",
   "id": "c7e4b155-c13f-484c-92bf-fe4991050233",
   "metadata": {},
   "source": [
    "#### Preguntamos pero ahora recuperando la historia con el session_id"
   ]
  },
  {
   "cell_type": "code",
   "execution_count": 46,
   "id": "400f791d-1e57-4fde-930f-0108a9b26a45",
   "metadata": {
    "scrolled": true
   },
   "outputs": [
    {
     "name": "stderr",
     "output_type": "stream",
     "text": [
      "Parent run 8c4fe3c0-742a-44e8-8b42-e4f0c2832548 not found for run aa43ab44-6651-4075-ad54-65d96cb7ccf7. Treating as a root run.\n"
     ]
    },
    {
     "data": {
      "text/plain": [
       "(AIMessage(content='Algunas marcas reconocidas en el mercado de cámaras de videovigilancia para el hogar son:\\n\\n1. Arlo: Conocida por sus cámaras inalámbricas y con batería recargable, ofrecen una fácil instalación y conectividad a través de Wi-Fi.\\n\\n2. Nest: Ofrece cámaras de alta calidad con funciones avanzadas como reconocimiento facial y detección de actividad.\\n\\n3. Ring: Conocida por sus videoporteros con cámara integrada, también ofrece cámaras de seguridad para el hogar con opciones de conectividad y almacenamiento en la nube.\\n\\n4. Lorex: Especializada en sistemas de videovigilancia, ofrece una amplia gama de cámaras con diferentes características y opciones de almacenamiento.\\n\\n5. Hikvision: Marca reconocida por su calidad de imagen y tecnología avanzada en cámaras de videovigilancia.\\n\\nEstas son solo algunas de las marcas populares en el mercado. Te recomendaría investigar más sobre las características específicas de cada marca y modelo para elegir la que mejor se adapte a tus necesidades y presupuesto. ¡Si necesitas más ayuda o información sobre alguna marca en particular, no dudes en consultarme!', response_metadata={'token_usage': {'completion_tokens': 273, 'prompt_tokens': 423, 'total_tokens': 696}, 'model_name': 'gpt-3.5-turbo-0125', 'system_fingerprint': None, 'finish_reason': 'stop', 'logprobs': None}, id='run-04ccbaa4-2265-411f-be76-a3113b2e12fa-0', usage_metadata={'input_tokens': 423, 'output_tokens': 273, 'total_tokens': 696}),)"
      ]
     },
     "execution_count": 46,
     "metadata": {},
     "output_type": "execute_result"
    }
   ],
   "source": [
    "with_message_history.invoke(\n",
    "    {\"ability\": \"match\", \"input\": \"Que marcas me sugieres?\"},\n",
    "    config={\"configurable\":{\"session_id\": \"abc123\"}}\n",
    "),"
   ]
  },
  {
   "cell_type": "markdown",
   "id": "9b1d4b52-74ec-4036-b0f3-0d7370f9c6c4",
   "metadata": {},
   "source": [
    "#### Preguntamos pero ahora con otro session_id en el cual no tenga historico"
   ]
  },
  {
   "cell_type": "code",
   "execution_count": 48,
   "id": "5296b48c-82e0-4d20-bb31-aa9190d453c2",
   "metadata": {},
   "outputs": [
    {
     "name": "stderr",
     "output_type": "stream",
     "text": [
      "Parent run 1e6fda64-4220-48d1-a462-956453b2ab51 not found for run 1847c6e4-c085-4f59-930b-cd9535c27df9. Treating as a root run.\n"
     ]
    },
    {
     "data": {
      "text/plain": [
       "(AIMessage(content='VHNGROUP ofrece servicios de match en Colombia a marcas de diversos sectores, como moda, tecnología, alimentos, entre otros. Algunas marcas colombianas con las que hemos trabajado incluyen Juan Valdez, Éxito, Avianca, Grupo Éxito, entre otras. Si estás interesado en conocer más sobre nuestras colaboraciones con marcas en Colombia, no dudes en preguntar.', response_metadata={'token_usage': {'completion_tokens': 88, 'prompt_tokens': 42, 'total_tokens': 130}, 'model_name': 'gpt-3.5-turbo-0125', 'system_fingerprint': None, 'finish_reason': 'stop', 'logprobs': None}, id='run-a447ba3b-4bb2-4f5b-a3c2-a7548b9ee8cc-0', usage_metadata={'input_tokens': 42, 'output_tokens': 88, 'total_tokens': 130}),)"
      ]
     },
     "execution_count": 48,
     "metadata": {},
     "output_type": "execute_result"
    }
   ],
   "source": [
    "with_message_history.invoke(\n",
    "    {\"ability\": \"match\", \"input\": \"En Colombia, que marcas?\"},\n",
    "    config={\"configurable\":{\"session_id\": \"abc124\"}}\n",
    "),\n",
    "#La respuesta fue muy.... creativa. por se puede ver no guardo contexto con las interacciones previas"
   ]
  },
  {
   "cell_type": "markdown",
   "id": "3246d9d2-0aba-402b-bd82-ea3257d0c66a",
   "metadata": {},
   "source": [
    "### Agregamos \"Tools\" o propiedades para conectarse a internet en este caso, Google"
   ]
  },
  {
   "cell_type": "code",
   "execution_count": 69,
   "id": "ccf687c9-c0f8-4286-a813-8822c25a0989",
   "metadata": {
    "scrolled": true
   },
   "outputs": [],
   "source": [
    "#para este caso usamos las siguientes librerias:\n",
    "    #from langchain_community.utilities import GoogleSearchAPIWrapper\n",
    "    #from langchain_core.tools import Tool\n",
    "# y debemos instalar pip install google-api-python-client\n",
    "\n",
    "Api_Key_Google = os.getenv('GOOGLE_API_KEY')\n",
    "CSE_ID_Google = os.getenv('GOOGLE_CSE_ID')\n",
    "os.environ[\"GOOGLE_CSE_ID\"] = CSE_ID_Google\n",
    "os.environ[\"GOOGLE_API_KEY\"] = Api_Key_Google\n",
    "\n",
    "search = GoogleSearchAPIWrapper(k=3) #Limitamos en numero de resultados\n",
    "\n",
    "toolg = Tool(\n",
    "    name=\"google_search\",\n",
    "    description=\"Busqueda de resultados en la pagina de VHNGROUP.\",\n",
    "    func=search.run,\n",
    ")"
   ]
  },
  {
   "cell_type": "code",
   "execution_count": 124,
   "id": "06ab860e-578b-4ace-a263-60e2a9362437",
   "metadata": {},
   "outputs": [
    {
     "data": {
      "text/plain": [
       "('google_search',\n",
       " 'A wrapper around Wikipedia. Useful for when you need to answer general questions about people, places, companies, facts, historical events, or other subjects. Input should be a search query.',\n",
       " {'query': {'title': 'Query',\n",
       "   'description': 'query to look up on wikipedia',\n",
       "   'type': 'string'}})"
      ]
     },
     "execution_count": 124,
     "metadata": {},
     "output_type": "execute_result"
    }
   ],
   "source": [
    "#info del wrapper de google, usando google search, centrado en la empresa VHNGROUP\n",
    "toolg.name, tool.description, tool.args"
   ]
  },
  {
   "cell_type": "code",
   "execution_count": 125,
   "id": "f73b246e-159d-4c85-aa5b-82cb72d49ac2",
   "metadata": {
    "scrolled": true
   },
   "outputs": [
    {
     "data": {
      "text/plain": [
       "'Que camara debemos usar para cuidar nuestro hogar o mascota? SKU:NHA-P610 DISPENSADOR DE COMIDA PARA MASCOTAS INTELIGENTE Modelo: MM105NXT55. ... Camara Ip 2Mp Bala H265+ Dwdr Ir30M Ip67 Semimetal $328,000. Detalles. ... de algún movimiento extraño o inesperado en su hogar. También podrás modificar los sensores de la cámara para que no recibir notificaciones por sus mascotas\\xa0...'"
      ]
     },
     "execution_count": 125,
     "metadata": {},
     "output_type": "execute_result"
    }
   ],
   "source": [
    "# Le pedimos que nos busque camaras para mascotas\n",
    "toolg.run(\"camara para mascotas\")"
   ]
  },
  {
   "cell_type": "markdown",
   "id": "97b455cb-82a8-4ae0-af30-1d2c971d0126",
   "metadata": {},
   "source": [
    "#### Agregamos a Wikipedia"
   ]
  },
  {
   "cell_type": "code",
   "execution_count": 126,
   "id": "e3ac9ad0-0008-4a4b-b971-20f2ce13236f",
   "metadata": {},
   "outputs": [
    {
     "data": {
      "text/plain": [
       "('wikipedia',\n",
       " 'A wrapper around Wikipedia. Useful for when you need to answer general questions about people, places, companies, facts, historical events, or other subjects. Input should be a search query.',\n",
       " {'query': {'title': 'Query',\n",
       "   'description': 'query to look up on wikipedia',\n",
       "   'type': 'string'}})"
      ]
     },
     "execution_count": 126,
     "metadata": {},
     "output_type": "execute_result"
    }
   ],
   "source": [
    "# debemos importar las siguientes librerias\n",
    "#from langchain_community.tools import WikipediaQueryRun\n",
    "#from langchain_community.utilities import WikipediaAPIWrapper\n",
    "\n",
    "api_wrapper = WikipediaAPIWrapper(top_k_results=1, doc_content_chars_max=100)\n",
    "toolk = WikipediaQueryRun(api_wrapper=api_wrapper)\n",
    "toolk.name, toolk.description, toolk.args"
   ]
  },
  {
   "cell_type": "code",
   "execution_count": 127,
   "id": "d2d922d0-2a96-4af7-a6c3-0f7a27d481b6",
   "metadata": {},
   "outputs": [],
   "source": [
    "tools = [toolg, toolk] # Creamos una lista de herramientas, para pasarlas al modelo"
   ]
  },
  {
   "cell_type": "markdown",
   "id": "d26af638-2bc4-4549-a0cd-2be0a2535aa4",
   "metadata": {},
   "source": [
    "### Agregamos agentes"
   ]
  },
  {
   "cell_type": "code",
   "execution_count": 128,
   "id": "10c0afd9-2f4f-4fdd-a275-53d00aba1d35",
   "metadata": {},
   "outputs": [
    {
     "data": {
      "text/plain": [
       "[SystemMessagePromptTemplate(prompt=PromptTemplate(input_variables=[], template='You are a helpful assistant')),\n",
       " MessagesPlaceholder(variable_name='chat_history', optional=True),\n",
       " HumanMessagePromptTemplate(prompt=PromptTemplate(input_variables=['input'], template='{input}')),\n",
       " MessagesPlaceholder(variable_name='agent_scratchpad')]"
      ]
     },
     "execution_count": 128,
     "metadata": {},
     "output_type": "execute_result"
    }
   ],
   "source": [
    "# Debemos agregar instalar:\n",
    "#pip install langchainhub\n",
    "# e importar from langchain import hub\n",
    "# instanciamos un nuevo modelo\n",
    "llm = ChatOpenAI(model=\"gpt-3.5-turbo-0125\", temperature=0) #La tempera ayuda a que el modelo sea lo mas preciso y alucine\n",
    "prompt = hub.pull(\"hwchase17/openai-functions-agent\") #Usamos un prompt ya creado\n",
    "prompt.messages"
   ]
  },
  {
   "cell_type": "code",
   "execution_count": 129,
   "id": "5ce8c6d9-0527-41e8-99e9-fbbaac7b532c",
   "metadata": {},
   "outputs": [],
   "source": [
    "# Creamos el agente\n",
    "#Debemos agreagar: from langchain.agents import create_tool_calling_agent\n",
    "agent = create_tool_calling_agent(llm, tools, prompt) #Creamos el agente, pasamos el modelo, las herramientas y el prompt que dara el comportamiento\n",
    "#Creamos el ejecutor del agente, ya que los agentes se egecutan los agentes de manera ciclica\n",
    "# Debemos importar from langchain.agents import AgentExecutor\n",
    "agent_executor = AgentExecutor(agent=agent, tools = tools, verbose=True)"
   ]
  },
  {
   "cell_type": "markdown",
   "id": "1d88ef54-a299-4bb1-95ad-34ef46a34040",
   "metadata": {},
   "source": [
    "#### Prueba de los agentes"
   ]
  },
  {
   "cell_type": "code",
   "execution_count": 134,
   "id": "9677a5c8-d7e5-4ffa-89a6-43ae30387bc8",
   "metadata": {
    "scrolled": true
   },
   "outputs": [
    {
     "name": "stdout",
     "output_type": "stream",
     "text": [
      "\n",
      "\n",
      "\u001b[1m> Entering new AgentExecutor chain...\u001b[0m\n",
      "\u001b[32;1m\u001b[1;3m¡Hola! ¿En qué puedo ayudarte hoy?\u001b[0m\n",
      "\n",
      "\u001b[1m> Finished chain.\u001b[0m\n"
     ]
    },
    {
     "data": {
      "text/plain": [
       "{'input': 'hola!', 'output': '¡Hola! ¿En qué puedo ayudarte hoy?'}"
      ]
     },
     "execution_count": 134,
     "metadata": {},
     "output_type": "execute_result"
    }
   ],
   "source": [
    "# Prueba 1\n",
    "agent_executor.invoke({\"input\":\"hola!\"})"
   ]
  },
  {
   "cell_type": "code",
   "execution_count": 135,
   "id": "5d179460-217a-45b8-ab41-adf25cb25e78",
   "metadata": {
    "scrolled": true
   },
   "outputs": [
    {
     "name": "stdout",
     "output_type": "stream",
     "text": [
      "\n",
      "\n",
      "\u001b[1m> Entering new AgentExecutor chain...\u001b[0m\n",
      "\u001b[32;1m\u001b[1;3m\n",
      "Invoking: `wikipedia` with `{'query': 'VHNGROUP'}`\n",
      "\n",
      "\n",
      "\u001b[0m\u001b[33;1m\u001b[1;3mNo good Wikipedia Search Result was found\u001b[0m\u001b[32;1m\u001b[1;3m\n",
      "Invoking: `google_search` with `VHNGROUP`\n",
      "\n",
      "\n",
      "\u001b[0m\u001b[36;1m\u001b[1;3mSoluciones integrales en seguridad electrónica, energía solar, vídeo vigilancia, alarmas, iluminación y mas. Conoce nuestros productos por sus categorias. · Sin categoría. 1 Product · Accesorios para Vehículos. 4 Products · Aire Acondicionado. 14 Products · Alarmas y ... +57 3203231397info@vhngroup.comLunes – Viernes 8 AM – 5 PMVHNGROUP. Información de Contacto: +57 3203231397info@vhngroup.comLunes – Viernes 8 AM – 5 PMVHNGROUP.\u001b[0m\u001b[32;1m\u001b[1;3mVHNGROUP es una empresa que ofrece soluciones integrales en seguridad electrónica, energía solar, vídeo vigilancia, alarmas, iluminación y más. Puedes conocer sus productos en categorías como accesorios para vehículos, aire acondicionado, alarmas, entre otros. Puedes contactarlos a través del teléfono +57 3203231397 o enviando un correo a info@vhngroup.com. Su horario de atención es de lunes a viernes de 8 AM a 5 PM.\u001b[0m\n",
      "\n",
      "\u001b[1m> Finished chain.\u001b[0m\n"
     ]
    },
    {
     "data": {
      "text/plain": [
       "{'input': 'Que es VHNGROUP?',\n",
       " 'output': 'VHNGROUP es una empresa que ofrece soluciones integrales en seguridad electrónica, energía solar, vídeo vigilancia, alarmas, iluminación y más. Puedes conocer sus productos en categorías como accesorios para vehículos, aire acondicionado, alarmas, entre otros. Puedes contactarlos a través del teléfono +57 3203231397 o enviando un correo a info@vhngroup.com. Su horario de atención es de lunes a viernes de 8 AM a 5 PM.'}"
      ]
     },
     "execution_count": 135,
     "metadata": {},
     "output_type": "execute_result"
    }
   ],
   "source": [
    "# Prueba 2\n",
    "agent_executor.invoke({\"input\":\"Que es VHNGROUP?\"})\n",
    "# Como podemos ver, el resultado mejora muchisimo."
   ]
  },
  {
   "cell_type": "code",
   "execution_count": 136,
   "id": "6fb1b64c-e29c-446d-861d-66c0467d244f",
   "metadata": {},
   "outputs": [
    {
     "name": "stdout",
     "output_type": "stream",
     "text": [
      "\n",
      "\n",
      "\u001b[1m> Entering new AgentExecutor chain...\u001b[0m\n",
      "\u001b[32;1m\u001b[1;3mPara elegir la cámara adecuada para mascotas, es importante considerar algunas características clave que pueden ser útiles para monitorear a tus mascotas cuando no estás en casa. Algunas características a tener en cuenta al elegir una cámara para mascotas son:\n",
      "\n",
      "1. **Resolución de video**: Busca una cámara con una buena resolución de video para poder ver claramente a tus mascotas.\n",
      "\n",
      "2. **Visión nocturna**: Es útil tener una cámara con visión nocturna para poder monitorear a tus mascotas incluso en la oscuridad.\n",
      "\n",
      "3. **Audio bidireccional**: Una cámara con audio bidireccional te permite escuchar a tus mascotas y también hablar con ellas a través de la cámara.\n",
      "\n",
      "4. **Detección de movimiento**: Algunas cámaras tienen la capacidad de detectar el movimiento de tus mascotas y enviarte notificaciones.\n",
      "\n",
      "5. **Aplicación móvil**: Asegúrate de que la cámara tenga una aplicación móvil fácil de usar para que puedas acceder al video en tiempo real desde tu teléfono.\n",
      "\n",
      "6. **Almacenamiento en la nube**: Considera si la cámara ofrece opciones de almacenamiento en la nube para grabar y almacenar videos de tus mascotas.\n",
      "\n",
      "Si deseas más información sobre cámaras específicas para mascotas o recomendaciones de marcas, puedo buscar más detalles al respecto. ¿Te gustaría que busque más información al respecto?\u001b[0m\n",
      "\n",
      "\u001b[1m> Finished chain.\u001b[0m\n"
     ]
    },
    {
     "data": {
      "text/plain": [
       "{'input': 'Que camara debo usar para mascotas?',\n",
       " 'output': 'Para elegir la cámara adecuada para mascotas, es importante considerar algunas características clave que pueden ser útiles para monitorear a tus mascotas cuando no estás en casa. Algunas características a tener en cuenta al elegir una cámara para mascotas son:\\n\\n1. **Resolución de video**: Busca una cámara con una buena resolución de video para poder ver claramente a tus mascotas.\\n\\n2. **Visión nocturna**: Es útil tener una cámara con visión nocturna para poder monitorear a tus mascotas incluso en la oscuridad.\\n\\n3. **Audio bidireccional**: Una cámara con audio bidireccional te permite escuchar a tus mascotas y también hablar con ellas a través de la cámara.\\n\\n4. **Detección de movimiento**: Algunas cámaras tienen la capacidad de detectar el movimiento de tus mascotas y enviarte notificaciones.\\n\\n5. **Aplicación móvil**: Asegúrate de que la cámara tenga una aplicación móvil fácil de usar para que puedas acceder al video en tiempo real desde tu teléfono.\\n\\n6. **Almacenamiento en la nube**: Considera si la cámara ofrece opciones de almacenamiento en la nube para grabar y almacenar videos de tus mascotas.\\n\\nSi deseas más información sobre cámaras específicas para mascotas o recomendaciones de marcas, puedo buscar más detalles al respecto. ¿Te gustaría que busque más información al respecto?'}"
      ]
     },
     "execution_count": 136,
     "metadata": {},
     "output_type": "execute_result"
    }
   ],
   "source": [
    "# Prueba 2\n",
    "agent_executor.invoke({\"input\":\"Que camara debo usar para mascotas?\"})\n",
    "# De igual manera, la respuesta mejora muchisimo mas."
   ]
  }
 ],
 "metadata": {
  "kernelspec": {
   "display_name": "Python 3 (ipykernel)",
   "language": "python",
   "name": "python3"
  },
  "language_info": {
   "codemirror_mode": {
    "name": "ipython",
    "version": 3
   },
   "file_extension": ".py",
   "mimetype": "text/x-python",
   "name": "python",
   "nbconvert_exporter": "python",
   "pygments_lexer": "ipython3",
   "version": "3.11.7"
  }
 },
 "nbformat": 4,
 "nbformat_minor": 5
}
